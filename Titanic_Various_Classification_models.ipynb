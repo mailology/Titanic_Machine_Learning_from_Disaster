{
  "cells": [
    {
      "metadata": {
        "_uuid": "8f2839f25d086af736a60e9eeb907d3b93b6e0e5",
        "_cell_guid": "b1076dfc-b9ad-4769-8c92-a6c4dae69d19",
        "trusted": true
      },
      "cell_type": "code",
      "source": "import numpy as np # linear algebra\nimport pandas as pd # data processing, CSV file I/O (e.g. pd.read_csv)\nimport matplotlib.pyplot as plt\nimport seaborn as sns\n\nfrom collections import Counter\n\nfrom sklearn.ensemble import RandomForestClassifier, GradientBoostingClassifier, AdaBoostClassifier, ExtraTreesClassifier,VotingClassifier\nfrom sklearn.discriminant_analysis import LinearDiscriminantAnalysis\nfrom sklearn.neural_network import MLPClassifier\nfrom sklearn.linear_model import LogisticRegression\nfrom sklearn.neighbors import KNeighborsClassifier\nfrom sklearn.tree import DecisionTreeClassifier\nfrom sklearn.svm import SVC\nfrom sklearn.model_selection import GridSearchCV, cross_val_score, StratifiedKFold, learning_curve\nimport xgboost as xgb\nimport lightgbm as lgb\n\nfrom scipy import stats\nfrom scipy.stats import norm, skew #for some statistics\nsns.set(style='white', context='notebook', palette='deep')",
      "execution_count": null,
      "outputs": []
    },
    {
      "metadata": {
        "_cell_guid": "79c7e3d0-c299-4dcb-8224-4455121ee9b0",
        "_uuid": "d629ff2d2480ee46fbb7e2d37f6b5fab8052498a",
        "trusted": true
      },
      "cell_type": "code",
      "source": "# Load data\n##### Load train and Test set\n\ntrain = pd.read_csv(\"../input/train.csv\")\ntest = pd.read_csv(\"../input/test.csv\")\nIDtest = test[\"PassengerId\"]",
      "execution_count": null,
      "outputs": []
    },
    {
      "metadata": {
        "trusted": true,
        "_uuid": "92d9dade8d8847a502d51fc3b74b2b43cbbf94d2"
      },
      "cell_type": "code",
      "source": "train.head()",
      "execution_count": null,
      "outputs": []
    },
    {
      "metadata": {
        "trusted": true,
        "_uuid": "c161f13323e597720aff5be98f30f5e316487697"
      },
      "cell_type": "code",
      "source": "train.shape",
      "execution_count": null,
      "outputs": []
    },
    {
      "metadata": {
        "trusted": true,
        "_uuid": "8d32add47162b0fc43f5e55ed62cf4c7c176ede7"
      },
      "cell_type": "code",
      "source": "test.shape",
      "execution_count": null,
      "outputs": []
    },
    {
      "metadata": {
        "_uuid": "6bb9478b31a9ea4ae83a3d33d12c6a1049e40233"
      },
      "cell_type": "markdown",
      "source": "## Data Explanation"
    },
    {
      "metadata": {
        "_uuid": "f8b2d351ec5e2902a57712b4de0bed73be44e429"
      },
      "cell_type": "markdown",
      "source": "* Data Dictionary\n\n**Variable\tDefinition\tKey**\n1. survival\tSurvival\t0 = No, 1 = Yes\n2. pclass\tTicket class\t1 = 1st, 2 = 2nd, 3 = 3rd\n3. sex\tSex\t\n4. Age\tAge in years\t\n5. sibsp\t# of siblings / spouses aboard the Titanic\t\n6. parch\t# of parents / children aboard the Titanic\t\n7. ticket\tTicket number\t\n8. fare\tPassenger fare\t\n9. cabin\tCabin number\t\n10. embarked\tPort of Embarkation\tC = Cherbourg, Q = Queenstown, S = Southampton\n\n**Variable Notes**\n* pclass: A proxy for socio-economic status (SES)\n  1st = Upper\n  2nd = Middle\n  3rd = Lower\n\n* age: Age is fractional if less than 1. If the age is estimated, is it in the form of xx.5\n\n* sibsp: The dataset defines family relations in this way...\nSibling = brother, sister, stepbrother, stepsister\nSpouse = husband, wife (mistresses and fiancés were ignored)\n\n* parch: The dataset defines family relations in this way...\nParent = mother, father\nChild = daughter, son, stepdaughter, stepson\nSome children travelled only with a nanny, therefore parch=0 for them."
    },
    {
      "metadata": {
        "_uuid": "2e523eac9245c61dd44f26d2826d830cb03f6be0"
      },
      "cell_type": "markdown",
      "source": "## Outliers detection "
    },
    {
      "metadata": {
        "trusted": true,
        "_uuid": "6d42408f608c1f096cde9d2925733cbc9e08f2e5"
      },
      "cell_type": "code",
      "source": "# Outlier detection \n\ndef detect_outliers(df,n,features):\n    \"\"\"\n    Takes a dataframe df of features and returns a list of the indices\n    corresponding to the observations containing more than n outliers according\n    to the Tukey method.\n    \"\"\"\n    outlier_indices = []\n    \n    # iterate over features(columns)\n    for col in features:\n        # 1st quartile (25%)\n        Q1 = np.percentile(df[col], 25)\n        # 3rd quartile (75%)\n        Q3 = np.percentile(df[col],75)\n        # Interquartile range (IQR)\n        IQR = Q3 - Q1\n        \n        # outlier step\n        outlier_step = 1.5 * IQR\n        \n        # Determine a list of indices of outliers for feature col\n        outlier_list_col = df[(df[col] < Q1 - outlier_step) | (df[col] > Q3 + outlier_step )].index\n        \n        # append the found outlier indices for col to the list of outlier indices \n        outlier_indices.extend(outlier_list_col)\n        \n    # select observations containing more than 2 outliers\n    outlier_indices = Counter(outlier_indices)        \n    multiple_outliers = list( k for k, v in outlier_indices.items() if v > n )\n    \n    return multiple_outliers   \n\n# detect outliers from Age, SibSp , Parch and Fare\nOutliers_to_drop = detect_outliers(train,2,[\"Age\",\"SibSp\",\"Parch\",\"Fare\"])",
      "execution_count": null,
      "outputs": []
    },
    {
      "metadata": {
        "trusted": true,
        "_uuid": "500aba51f8181b6b6fe69fe93ba9620b9b526615"
      },
      "cell_type": "code",
      "source": "outliers = train.iloc[Outliers_to_drop]\noutliers",
      "execution_count": null,
      "outputs": []
    },
    {
      "metadata": {
        "trusted": true,
        "_uuid": "c5f1fa7571b6ace7867c1aea772fb5875bdb582f"
      },
      "cell_type": "code",
      "source": "# remove  outliers\n\ntrain = train.drop(Outliers_to_drop, axis=0).reset_index(drop=True)",
      "execution_count": null,
      "outputs": []
    },
    {
      "metadata": {
        "_uuid": "823d82dfaa3c68b4f7405c4b26e3b9b6f5f8586e"
      },
      "cell_type": "markdown",
      "source": "## Check for missing values"
    },
    {
      "metadata": {
        "_uuid": "c486193068aae2c398e179c9481ed629ed287845",
        "trusted": true
      },
      "cell_type": "code",
      "source": "## Join train and test datasets in order to obtain the same number of features during categorical conversion\ntrain_len = len(train)\ndataset =  pd.concat(objs=[train, test], axis=0).reset_index(drop=True)",
      "execution_count": null,
      "outputs": []
    },
    {
      "metadata": {
        "trusted": true,
        "_uuid": "e58d7ad5decad950f368d4a924fa1c40d5e33be9"
      },
      "cell_type": "code",
      "source": "# fill missing values with nan\ndataset = dataset.fillna(np.nan)\n\n# check number of nan\ndataset.isnull().sum()",
      "execution_count": null,
      "outputs": []
    },
    {
      "metadata": {
        "_uuid": "9794412732905eb66a9d2d592baca709d609ae0e"
      },
      "cell_type": "markdown",
      "source": "* Age and Cabin features have an important part of missing values.\n\n* Survived missing values correspond to the join testing dataset (Survived column doesn't exist in test set) "
    },
    {
      "metadata": {
        "trusted": true,
        "_uuid": "0cfbaa7cf41604b94c5be2fa8198ef56cb87ad57"
      },
      "cell_type": "code",
      "source": "train.dtypes",
      "execution_count": null,
      "outputs": []
    },
    {
      "metadata": {
        "trusted": true,
        "_uuid": "1a6ca6953af57060f1fd18af7e80796cf1204bd8"
      },
      "cell_type": "code",
      "source": "### Summarize data\n# descriptive statistics\ntrain.describe()",
      "execution_count": null,
      "outputs": []
    },
    {
      "metadata": {
        "_uuid": "2f7b4afd65f586dfaad1b28b7316e4844e30b2a6"
      },
      "cell_type": "markdown",
      "source": "## Feature Analysis"
    },
    {
      "metadata": {
        "_uuid": "e6793f9de795148e9e62b9fa9f7aecf3860fb392"
      },
      "cell_type": "markdown",
      "source": "### 1. Numerical features"
    },
    {
      "metadata": {
        "trusted": true,
        "_uuid": "665de618684cd744af4247852ddcb61cd61aeec4"
      },
      "cell_type": "code",
      "source": "# Correlations of numerical features with survival\nplt.figure(figsize=(10,8))\ng = sns.heatmap(train[[\"Survived\",\"SibSp\",\"Parch\",\"Age\",\"Fare\"]].corr(), annot=True, fmt=\".2f\")",
      "execution_count": null,
      "outputs": []
    },
    {
      "metadata": {
        "_uuid": "7de378fb50ae07fff5490b34ee9b249355d2eaf8"
      },
      "cell_type": "markdown",
      "source": "* only fare seems to have a more significant correlation with survival.  \n* We need to explore the relationship of other features with survival in more details."
    },
    {
      "metadata": {
        "trusted": true,
        "_uuid": "7aea15f2b0ce03010f20255c3343d5ab5f3c7e9b"
      },
      "cell_type": "code",
      "source": "# Explore SibSp feature vs Survived\ng = sns.catplot(x=\"SibSp\",y=\"Survived\", data=train, kind=\"bar\", height=6, palette = \"muted\")\ng = g.set_ylabels(\"Survival Probability\")",
      "execution_count": null,
      "outputs": []
    },
    {
      "metadata": {
        "trusted": true,
        "_uuid": "92bc00dc48063f292924b9964d431e9b010b86ca"
      },
      "cell_type": "code",
      "source": "# Explore Parch vs Survived\ng = sns.catplot(x=\"Parch\", y=\"Survived\", data=train, kind=\"bar\", height=6, palette=\"muted\")\ng = g.set_ylabels(\"Survival Probability\")",
      "execution_count": null,
      "outputs": []
    },
    {
      "metadata": {
        "_uuid": "79e1d3c4913deb98deb81d82c34d58d6f4d98b6c"
      },
      "cell_type": "markdown",
      "source": "Small families have more chance to survive, more than single (Parch 0), medium (Parch 3,4) and large families (Parch 5,6 ).\n\nBe carefull there is an important standard deviation in the survival of passengers with 3 parents/children"
    },
    {
      "metadata": {
        "trusted": true,
        "_uuid": "89b751f9cb9bdeb99cb8d58c412ac08b04aa9432"
      },
      "cell_type": "code",
      "source": "# Explore Age vs Survived\nplt.figure(figsize=(16,10))\ng = sns.FacetGrid(train, col='Survived', size=10)\ng = g.map(sns.distplot, \"Age\")",
      "execution_count": null,
      "outputs": []
    },
    {
      "metadata": {
        "_uuid": "e2c4d3c7e58e69297d01859f0659844c4725f40a"
      },
      "cell_type": "markdown",
      "source": "Age distribution seems to be a skewed distribution, maybe a gaussian distribution.\n\nWe notice that age distributions are not the same in the survived and not survived subpopulations. Indeed, there is a peak corresponding to young passengers, that have survived. We also see that passengers between 60-80 have less survived.\n\nSo, even if \"Age\" is not correlated with \"Survived\", we can see that there is age categories of passengers that of have more or less chance to survive.\n\nIt seems that very young passengers have more chance to survive."
    },
    {
      "metadata": {
        "trusted": true,
        "_uuid": "4c7e39ccebf4825f83399da54afd0dd036acf9bb"
      },
      "cell_type": "code",
      "source": "# superimpose the two distributions of survived and not survived \n# Explore Age distibution \nplt.figure(figsize=(10,8))\ng = sns.kdeplot(train[\"Age\"][(train[\"Survived\"] == 0) & (train[\"Age\"].notnull())], color=\"Red\", shade = True)\ng = sns.kdeplot(train[\"Age\"][(train[\"Survived\"] == 1) & (train[\"Age\"].notnull())], ax=g, color=\"Blue\", shade= True)\ng.set_xlabel(\"Age\")\ng.set_ylabel(\"Frequency\")\ng = g.legend([\"Not Survived\",\"Survived\"])",
      "execution_count": null,
      "outputs": []
    },
    {
      "metadata": {
        "_uuid": "aa4663f4aba37fce9dfc755cea46b60e0bcb8c0a"
      },
      "cell_type": "markdown",
      "source": "In survived distribution,there is a peak on young children from 0 to 5 years old."
    },
    {
      "metadata": {
        "trusted": true,
        "_uuid": "6c0f103c0663b0131e20cce43a9cf526313494e1"
      },
      "cell_type": "code",
      "source": "# Explore Fare distribution \nplt.figure(figsize=(10,8))\ng = sns.distplot(train[\"Fare\"], color=\"m\", label=\"Skewness : %.2f\"%(dataset[\"Fare\"].skew()))\ng = g.legend(loc=\"best\")",
      "execution_count": null,
      "outputs": []
    },
    {
      "metadata": {
        "_uuid": "19925c9f324f061b076ddb755a88502a73883a7c"
      },
      "cell_type": "markdown",
      "source": "From the picture, we see that Fare is highly skewed, this can lead to overweight on high values of fare in the model.\nWe transform it by log(1+x) to remove the skewness."
    },
    {
      "metadata": {
        "trusted": true,
        "_uuid": "9fb128f49491bb99676cb293649235ac5f89e3a5"
      },
      "cell_type": "code",
      "source": "train[\"Fare\"] = train[\"Fare\"].map(lambda i: np.log1p(i))",
      "execution_count": null,
      "outputs": []
    },
    {
      "metadata": {
        "trusted": true,
        "_uuid": "8e422f683d6df5fb3e4f7028537ba4a167f0089f"
      },
      "cell_type": "code",
      "source": "plt.figure(figsize=(10,8))\ng = sns.distplot(train[\"Fare\"], color=\"b\", label=\"Skewness : %.2f\"%(train[\"Fare\"].skew()))\ng = g.legend(loc=\"best\")",
      "execution_count": null,
      "outputs": []
    },
    {
      "metadata": {
        "_uuid": "5258e83279f7276698c328e7602cdd68f46779ee"
      },
      "cell_type": "markdown",
      "source": "Skewness of Fare is significantly reduced after the transformation."
    },
    {
      "metadata": {
        "_uuid": "b380203e28abdf328a42e83730c0246d168bea6d"
      },
      "cell_type": "markdown",
      "source": "### 2. Categorical features"
    },
    {
      "metadata": {
        "trusted": true,
        "_uuid": "a60fe962e7677d68ae89cfd59dec0de66426d357"
      },
      "cell_type": "code",
      "source": "# Sex vs survival\ng = sns.barplot(x=\"Sex\", y=\"Survived\", data=train)\ng = g.set_ylabel(\"Survival Probability\")",
      "execution_count": null,
      "outputs": []
    },
    {
      "metadata": {
        "trusted": true,
        "_uuid": "c2d6ef7524180921d752ca6185d9f5d23c7d76f9"
      },
      "cell_type": "code",
      "source": "train[[\"Sex\", \"Survived\"]].groupby('Sex').mean()",
      "execution_count": null,
      "outputs": []
    },
    {
      "metadata": {
        "_uuid": "b8e4201c3bef88578cd2e72c82cde1386b6e958f"
      },
      "cell_type": "markdown",
      "source": "It is clear that male has less chance of being survived than female. \nThus, sex is an important feature in predicting survival."
    },
    {
      "metadata": {
        "trusted": true,
        "_uuid": "14a1689497b639241dfc8441144b02ea52ba7a98"
      },
      "cell_type": "code",
      "source": "plt.figure(figsize=(10,8))\ng = sns.barplot(x=\"Pclass\", y=\"Survived\", data=train)\ng = g.set_ylabel(\"Survival Probability\")",
      "execution_count": null,
      "outputs": []
    },
    {
      "metadata": {
        "_uuid": "6a92c3acf1c219d976d55527f6a0098dfd824ab7"
      },
      "cell_type": "markdown",
      "source": "Pclass of 1 has the highest chance of survival. Pclass of 3 has the lowest chance. "
    },
    {
      "metadata": {
        "trusted": true,
        "_uuid": "cf96d886f4bafb905ecf3f8fb82a350de05a35a8"
      },
      "cell_type": "code",
      "source": "plt.figure(figsize=(10,8))\ng = sns.barplot(x=\"Pclass\", y=\"Survived\", hue=\"Sex\", data=train)\ng = g.set_ylabel(\"Survival Probability\")",
      "execution_count": null,
      "outputs": []
    },
    {
      "metadata": {
        "_uuid": "c6268c0a62e97d3b5c086e20a2897eba4b15eb93"
      },
      "cell_type": "markdown",
      "source": "Throughout all three classes, female has much high chance to survive than male."
    },
    {
      "metadata": {
        "trusted": true,
        "_uuid": "d8c9321bef6608e301f08854965d036f8fa6beb7"
      },
      "cell_type": "code",
      "source": "# Embarked vs Survival\nplt.figure(figsize=(10,8))\ng = sns.barplot(x=\"Embarked\", y=\"Survived\", data=train)\ng = g.set_ylabel(\"Survival Probability\")",
      "execution_count": null,
      "outputs": []
    },
    {
      "metadata": {
        "_uuid": "c54d8000a9eeb07dc4675d6807431dd3a3ef44aa"
      },
      "cell_type": "markdown",
      "source": "It seems that passenger coming from Cherbourg (C) have more chance to survive.\n\nMy hypothesis is that the proportion of first class passengers is higher for those who came from Cherbourg (C) than Queenstown (Q), Southampton (S).\n\nLet's see the Pclass distribution vs Embarked"
    },
    {
      "metadata": {
        "trusted": true,
        "_uuid": "73dab3d382bbc99148cee21914cb832e25fc0283"
      },
      "cell_type": "code",
      "source": "plt.figure(figsize=(10,8))\ng = sns.factorplot(\"Pclass\", col=\"Embarked\", kind=\"count\", data=train, palette=\"muted\")\ng.despine(left=True)",
      "execution_count": null,
      "outputs": []
    },
    {
      "metadata": {
        "_uuid": "3d28885a3beb4b830d230be97ff0bf7720109521"
      },
      "cell_type": "markdown",
      "source": "The third class is the most frequent for passenger coming from Southampton (S) and Queenstown (Q), \nwhereas Cherbourg (C) passengers are mostly in first class which have the highest survival rate."
    },
    {
      "metadata": {
        "_uuid": "a3cc7cad80724a465b27242abddeffd37679ef38"
      },
      "cell_type": "markdown",
      "source": "## Filling missing values"
    },
    {
      "metadata": {
        "_uuid": "f99e35e16e1da81d313b9f424db55803ecf9df5b"
      },
      "cell_type": "markdown",
      "source": "### 1. Age"
    },
    {
      "metadata": {
        "trusted": true,
        "_uuid": "4c36a50971ba1ef0704f23ca73a25982451abef3"
      },
      "cell_type": "code",
      "source": "dataset.isnull().sum()",
      "execution_count": null,
      "outputs": []
    },
    {
      "metadata": {
        "_uuid": "d6b1333e1a06ff9633a394ec5909de939abe6876"
      },
      "cell_type": "markdown",
      "source": "Age has 256 missing values in the whole dataset. Since age is an important feature for predicting survival in subpopulations, we need to analyze the correlation between age and other features in detail."
    },
    {
      "metadata": {
        "trusted": true,
        "_uuid": "8243e462da887910060c3217cf577f85620c1218"
      },
      "cell_type": "code",
      "source": "# Explore Age vs Sex, Parch , Pclass and SibSP\ng = sns.catplot(y=\"Age\",x=\"Sex\",data=dataset,kind=\"box\")\ng = sns.catplot(y=\"Age\",x=\"Sex\",hue=\"Pclass\", data=dataset,kind=\"box\")\ng = sns.catplot(y=\"Age\",x=\"Parch\", data=dataset,kind=\"box\")\ng = sns.catplot(y=\"Age\",x=\"SibSp\", data=dataset,kind=\"box\")",
      "execution_count": null,
      "outputs": []
    },
    {
      "metadata": {
        "_uuid": "598dd34dad0af5b3e0c86d4e53c311cabe038e0e"
      },
      "cell_type": "markdown",
      "source": "Age distribution seems to be the same in Male and Female subpopulations, so Sex is not informative to predict Age.\n\nHowever, 1rst class passengers are older than 2nd class passengers who are also older than 3rd class passengers.\n\nMoreover, the more a passenger has parents/children the older he is and the more a passenger has siblings/spouses the younger he is."
    },
    {
      "metadata": {
        "trusted": true,
        "_uuid": "b775bbe38e967c221251dc9a03b87a02f2576276"
      },
      "cell_type": "code",
      "source": "# convert Sex to categorical variable with male 0 and female 1\ndataset['Sex'] = dataset['Sex'].map({'male':0, \"female\":1})",
      "execution_count": null,
      "outputs": []
    },
    {
      "metadata": {
        "trusted": true,
        "_uuid": "65749fa69678bcf0aa239131c42edb62d47bcc40"
      },
      "cell_type": "code",
      "source": "dataset.head()",
      "execution_count": null,
      "outputs": []
    },
    {
      "metadata": {
        "trusted": true,
        "_uuid": "bedc64bc2499b6e90b0e4d86e2c4153a7107daa5"
      },
      "cell_type": "code",
      "source": "plt.figure(figsize=(8,6))\ng = sns.heatmap(dataset[[\"Age\",\"Sex\",\"SibSp\",\"Parch\",\"Pclass\"]].corr(), cmap=\"RdBu_r\", annot=True)",
      "execution_count": null,
      "outputs": []
    },
    {
      "metadata": {
        "_uuid": "d7fe77dfd7778847baba360cf15453d72f475b3e"
      },
      "cell_type": "markdown",
      "source": "The correlation map confirms the factorplots observations except for Parch. Age is not correlated with Sex, but is negatively correlated with Pclass, Parch and SibSp.\n\nIn the plot of Age in function of Parch, Age is growing with the number of parents / children. But the general correlation is negative.\n\nSo, i decided to use SibSP, Parch and Pclass in order to impute the missing ages.\n\nThe strategy is to fill Age with the median age of similar rows according to Pclass, Parch and SibSp."
    },
    {
      "metadata": {
        "trusted": true,
        "_uuid": "98f167ce1229e5c8e901bb2fd92fec4e274d9867"
      },
      "cell_type": "code",
      "source": "# Filling missing value of Age \n\n## Fill Age with the median age of similar rows according to Pclass, Parch and SibSp\n# Index of NaN age rows\nindex_NaN_age = list(dataset[\"Age\"][dataset[\"Age\"].isnull()].index)\n\nfor i in index_NaN_age :\n    age_med = dataset[\"Age\"].median()\n    age_pred = dataset[\"Age\"][((dataset['SibSp'] == dataset.iloc[i][\"SibSp\"]) & \n                               (dataset['Parch'] == dataset.iloc[i][\"Parch\"]) & \n                               (dataset['Pclass'] == dataset.iloc[i][\"Pclass\"]))].median()\n    if not np.isnan(age_pred) :\n        dataset['Age'].iloc[i] = age_pred\n    else :\n        dataset['Age'].iloc[i] = age_med",
      "execution_count": null,
      "outputs": []
    },
    {
      "metadata": {
        "trusted": true,
        "_uuid": "32bfce0027161f0286c8f4a505d6828e45071550"
      },
      "cell_type": "code",
      "source": "dataset['Age'].isnull().sum()",
      "execution_count": null,
      "outputs": []
    },
    {
      "metadata": {
        "trusted": true,
        "_uuid": "e0ea10a37bf8890f5113fcef14f3d07c2675ed08"
      },
      "cell_type": "code",
      "source": "g = sns.catplot(x=\"Survived\", y = \"Age\",data = train, kind=\"box\")\ng = sns.catplot(x=\"Survived\", y = \"Age\",data = train, kind=\"violin\")",
      "execution_count": null,
      "outputs": []
    },
    {
      "metadata": {
        "_uuid": "45f86d2a2e9e65c98808c738adb525db25729223"
      },
      "cell_type": "markdown",
      "source": "### 2. Fare"
    },
    {
      "metadata": {
        "trusted": true,
        "_uuid": "ec8fb1e9697b60e2bc4a8552a89f719f0066d886"
      },
      "cell_type": "code",
      "source": "dataset[\"Fare\"].isnull().sum()",
      "execution_count": null,
      "outputs": []
    },
    {
      "metadata": {
        "_uuid": "31ac834fa644a12d3c301aed87ad74a85a1bcbae"
      },
      "cell_type": "markdown",
      "source": "Since there is only one missing value in Fare, I decide to fill it with median "
    },
    {
      "metadata": {
        "trusted": true,
        "_uuid": "25b01ba4c38e9c7eef25787a23f844ad773f23b2"
      },
      "cell_type": "code",
      "source": "dataset['Fare'].describe()",
      "execution_count": null,
      "outputs": []
    },
    {
      "metadata": {
        "trusted": true,
        "_uuid": "c6847cb44b3f905e688e48d98bb7122f803132d2"
      },
      "cell_type": "code",
      "source": "train[['Fare','Pclass']].groupby('Pclass').mean()",
      "execution_count": null,
      "outputs": []
    },
    {
      "metadata": {
        "trusted": true,
        "_uuid": "a6cc843713539a17e7fc41ceb07754511e4ccbb3"
      },
      "cell_type": "code",
      "source": "g = sns.catplot(y='Fare', x=\"Pclass\", data=train, kind='box')",
      "execution_count": null,
      "outputs": []
    },
    {
      "metadata": {
        "_uuid": "ca60b28141f1e29454e2b7b45fcedd317521768d"
      },
      "cell_type": "markdown",
      "source": "From the boxplot, we can see that the Fare is highly related wit the pessenger class. \nSo we will impute the fare corresponding to the mean fare of the class it belongs."
    },
    {
      "metadata": {
        "trusted": true,
        "_uuid": "51395eeffa2ee30498ea29a5055f796e14e3b1c1"
      },
      "cell_type": "code",
      "source": "dataset['Fare'][dataset['Fare'].isnull()].index",
      "execution_count": null,
      "outputs": []
    },
    {
      "metadata": {
        "trusted": true,
        "_uuid": "52cc6d488e761fcceb76fcab55109a09ec273402"
      },
      "cell_type": "code",
      "source": "dataset.loc[1033,'Pclass']",
      "execution_count": null,
      "outputs": []
    },
    {
      "metadata": {
        "trusted": true,
        "_uuid": "192131f1ae548cc056fe35df49cdc0fb44fa4bd3"
      },
      "cell_type": "code",
      "source": "fare = train[['Fare','Pclass']].groupby('Pclass').mean()['Fare'][3]\ndataset['Fare'] = dataset['Fare'].fillna(fare)",
      "execution_count": null,
      "outputs": []
    },
    {
      "metadata": {
        "trusted": true,
        "_uuid": "665a7433803a346c8926cdd95545534e02a81609"
      },
      "cell_type": "code",
      "source": "dataset['Fare'].isnull().sum()",
      "execution_count": null,
      "outputs": []
    },
    {
      "metadata": {
        "_uuid": "883b15cc2b2ffe80446f29fb630bd8f30f96e2cc"
      },
      "cell_type": "markdown",
      "source": "### 3. Embarked"
    },
    {
      "metadata": {
        "trusted": true,
        "_uuid": "d659ed41f54e1588e9eedc31ea2cb6fed8f36b02"
      },
      "cell_type": "code",
      "source": "# Check the data with missing Embarked\n\nembarked_nan_idx = dataset['Embarked'][dataset['Embarked'].isnull()].index",
      "execution_count": null,
      "outputs": []
    },
    {
      "metadata": {
        "trusted": true,
        "_uuid": "88403438d59aec4790210fdae8fd87303c3fae0d"
      },
      "cell_type": "code",
      "source": "dataset.iloc[embarked_nan_idx]",
      "execution_count": null,
      "outputs": []
    },
    {
      "metadata": {
        "trusted": true,
        "_uuid": "8888e8a801fb0d7a9e166ce099bf4952c5792c25"
      },
      "cell_type": "code",
      "source": "dataset[\"Embarked\"].value_counts()",
      "execution_count": null,
      "outputs": []
    },
    {
      "metadata": {
        "_uuid": "0f83a258ee953b37876f03eef46b5b87c207b5fd"
      },
      "cell_type": "markdown",
      "source": "Since most people boarded from port Southampton, we impute the missing values of Embarked by S"
    },
    {
      "metadata": {
        "trusted": true,
        "_uuid": "2d26f1b7a4d09d22560b4d153ad3947ff41a16a9"
      },
      "cell_type": "code",
      "source": "dataset['Embarked'] = dataset[\"Embarked\"].fillna(\"S\")",
      "execution_count": null,
      "outputs": []
    },
    {
      "metadata": {
        "_uuid": "6914f2c41a0eb8e8b284cbca5a6e916660c62025"
      },
      "cell_type": "markdown",
      "source": "### 4. Cabin"
    },
    {
      "metadata": {
        "trusted": true,
        "_uuid": "2603f633f56bdf75df0ed4110764d5132f5b4ca0"
      },
      "cell_type": "code",
      "source": "dataset['Cabin'].describe()",
      "execution_count": null,
      "outputs": []
    },
    {
      "metadata": {
        "trusted": true,
        "_uuid": "2a89a9653f049931ed250ed1f5be5943536e0cb8"
      },
      "cell_type": "code",
      "source": "dataset['Cabin'].isnull().sum()",
      "execution_count": null,
      "outputs": []
    },
    {
      "metadata": {
        "_uuid": "e825d322495ca69a09cf17fb0115a703accc767b"
      },
      "cell_type": "markdown",
      "source": "The Cabin feature column contains 292 values and 1007 missing values.\n\nI supposed that passengers without a cabin have a missing value displayed instead of the cabin number."
    },
    {
      "metadata": {
        "trusted": true,
        "_uuid": "8d79727f3e68076b7acdfea407a863759cf29b18"
      },
      "cell_type": "code",
      "source": "# Replace the Cabin by the first letter, and \"X\" if it is missing.\ndataset['Cabin'] = pd.Series([i[0] if not pd.isnull(i) else 'X' for i in dataset['Cabin']])",
      "execution_count": null,
      "outputs": []
    },
    {
      "metadata": {
        "trusted": true,
        "_uuid": "008ddd421f19a52f72b04142738a995208c227aa"
      },
      "cell_type": "code",
      "source": "plt.figure(figsize=(8,6))\ng = sns.countplot(dataset['Cabin'], order = dataset['Cabin'].value_counts().index)",
      "execution_count": null,
      "outputs": []
    },
    {
      "metadata": {
        "trusted": true,
        "_uuid": "3b510d6c37ff9799b4bab74463378e76ecbe29c1"
      },
      "cell_type": "code",
      "source": "g = sns.factorplot(y=\"Survived\",x=\"Cabin\",data=dataset,kind=\"bar\")\ng = g.set_ylabels(\"Survival Probability\")",
      "execution_count": null,
      "outputs": []
    },
    {
      "metadata": {
        "_uuid": "db65af0648b30e0950521108399344673140bc9f"
      },
      "cell_type": "markdown",
      "source": "We can see that passengers with a cabin have generally more chance to survive than passengers without (X).\n\nIt is particularly true for cabin B, C, D, E and F."
    },
    {
      "metadata": {
        "trusted": true,
        "_uuid": "16af2bffb1b650fadd7ab72771690afaad05307c"
      },
      "cell_type": "code",
      "source": "dataset = pd.get_dummies(dataset, columns=[\"Cabin\"], prefix = \"Cabin\")",
      "execution_count": null,
      "outputs": []
    },
    {
      "metadata": {
        "trusted": true,
        "_uuid": "d6b20136cd6d1c8cf6dd42d841c9eb7e1bffe45b"
      },
      "cell_type": "code",
      "source": "dataset.head()",
      "execution_count": null,
      "outputs": []
    },
    {
      "metadata": {
        "_uuid": "e9b90044978269d6bd89ec20d208e60f1444c47a"
      },
      "cell_type": "markdown",
      "source": "## Feature Engineering"
    },
    {
      "metadata": {
        "_uuid": "dfff0f01c6da1310bba79f3804cd5380a63d5b20"
      },
      "cell_type": "markdown",
      "source": "### 1. Name/Title"
    },
    {
      "metadata": {
        "trusted": true,
        "_uuid": "684d08335e13ba66ea59134d89f5b81199e1d786"
      },
      "cell_type": "code",
      "source": "dataset['Name'].head()",
      "execution_count": null,
      "outputs": []
    },
    {
      "metadata": {
        "trusted": true,
        "_uuid": "4769a8bd9cbc88733cb236cfc521a8b3334630b8"
      },
      "cell_type": "code",
      "source": "title = [i.split(',')[1].split('.')[0].strip() for i in dataset['Name']]\ndataset['Title'] = pd.Series(title)\ndataset['Title'].head()",
      "execution_count": null,
      "outputs": []
    },
    {
      "metadata": {
        "trusted": true,
        "_uuid": "84e6b1909c2b8cd1814ebef783ffa7a91367a331"
      },
      "cell_type": "code",
      "source": "dataset['Title'].value_counts()",
      "execution_count": null,
      "outputs": []
    },
    {
      "metadata": {
        "trusted": true,
        "_uuid": "b2a407f10e2983527aac06ec1f38acd6a1ed3d9f"
      },
      "cell_type": "code",
      "source": "plt.figure(figsize=(8,6))\ng = sns.countplot(x=\"Title\", data=dataset)\ng = plt.setp(g.get_xticklabels(), rotation=45)",
      "execution_count": null,
      "outputs": []
    },
    {
      "metadata": {
        "trusted": true,
        "_uuid": "3596a49eec82ecfed19f8cfd824b6012f86528a6"
      },
      "cell_type": "code",
      "source": "g = sns.catplot(\"Title\", col=\"Survived\", data=dataset, kind='count', size=10)\ng = plt.xticks(rotation=45)",
      "execution_count": null,
      "outputs": []
    },
    {
      "metadata": {
        "_uuid": "4d3fb52d541f1c6e3a5fbea8080f8d11f14d26fc"
      },
      "cell_type": "markdown",
      "source": "There is 18 titles in the dataset, most of them are very rare and we can group them in 4 categories.**"
    },
    {
      "metadata": {
        "trusted": true,
        "_uuid": "bf7e90655e7818f2cfe45295b46e7256ef53f8f2"
      },
      "cell_type": "code",
      "source": "# Convert to categorical values Title \ndataset[\"Title\"] = dataset[\"Title\"].replace(['Lady', 'the Countess','Capt', \n                                             'Col','Don', 'Dr', 'Major', \n                                             'Rev', 'Sir', 'Jonkheer', 'Dona'], 'Rare')\ndataset[\"Title\"] = dataset[\"Title\"].map({\"Master\":0, \"Miss\":1, \"Ms\" : 1 , \"Mme\":1, \"Mlle\":1, \"Mrs\":1, \"Mr\":2, \"Rare\":3})\ndataset[\"Title\"] = dataset[\"Title\"].astype(int)",
      "execution_count": null,
      "outputs": []
    },
    {
      "metadata": {
        "trusted": true,
        "_uuid": "8c4505771aa1f647df1f3d67adc613a5338acdc6"
      },
      "cell_type": "code",
      "source": "g = sns.countplot('Title', data=dataset)\ng = g.set_xticklabels([\"Master\",\"Miss-Mrs\",\"Mr\",\"Rare\"])",
      "execution_count": null,
      "outputs": []
    },
    {
      "metadata": {
        "trusted": true,
        "_uuid": "9f315d9bfec7053ce0bd9254044c9b53ead1cd58"
      },
      "cell_type": "code",
      "source": "g = sns.catplot(x=\"Title\", y='Survived', data=dataset, kind='bar')\ng = g.set_xticklabels([\"Master\",\"Miss-Mrs\",\"Mr\",\"Rare\"])\ng = g.set_ylabels(\"Survival Probability\")",
      "execution_count": null,
      "outputs": []
    },
    {
      "metadata": {
        "trusted": true,
        "_uuid": "3bb6ef18e54cfbff5838b1ee6fece7082ad8ae01"
      },
      "cell_type": "code",
      "source": "# Drop Name feature\ndataset.drop(labels=[\"Name\"], axis=1, inplace=True)",
      "execution_count": null,
      "outputs": []
    },
    {
      "metadata": {
        "_uuid": "fac99d5e7fcde9ccdfd8838408af952a2acb9ab8"
      },
      "cell_type": "markdown",
      "source": "\n### 2. Family size"
    },
    {
      "metadata": {
        "_uuid": "27eee02a9c7435c4c9809438db221c1a0f4b428d"
      },
      "cell_type": "markdown",
      "source": "We can imagine that large families will have more difficulties to evacuate, looking for theirs sisters/brothers/parents during the evacuation. So, i choose to create a \"Fize\" (family size) feature which is the sum of SibSp , Parch and 1 (including the passenger)."
    },
    {
      "metadata": {
        "trusted": true,
        "_uuid": "d9df11a08a4168aa51bd6a10598059062e525591"
      },
      "cell_type": "code",
      "source": "# Create Family Size feature \ndataset['Fsize'] = dataset['SibSp'] + dataset['Parch'] + 1",
      "execution_count": null,
      "outputs": []
    },
    {
      "metadata": {
        "trusted": true,
        "_uuid": "49ce48d6b4d8020c6edc8720c195b8efa6e5e45d"
      },
      "cell_type": "code",
      "source": "g = sns.factorplot(x=\"Fsize\",y=\"Survived\",data = dataset)\ng = g.set_ylabels(\"Survival Probability\")",
      "execution_count": null,
      "outputs": []
    },
    {
      "metadata": {
        "trusted": true,
        "_uuid": "3ce399843789a0a926f30a92f7303de6e9733efc"
      },
      "cell_type": "code",
      "source": "dataset['Single'] = dataset['Fsize'].map(lambda s: 1 if s == 1 else 0)\ndataset['SmallF'] = dataset['Fsize'].map(lambda s: 1 if s == 2 else 0)\ndataset['MedF'] = dataset['Fsize'].map(lambda s: 1 if 3 <= s <= 4 else 0)\ndataset['LargeF'] = dataset['Fsize'].map(lambda s: 1 if s >= 5 else 0)",
      "execution_count": null,
      "outputs": []
    },
    {
      "metadata": {
        "trusted": true,
        "_uuid": "10b5289242163789a9599911529cc95b2c922f5d"
      },
      "cell_type": "code",
      "source": "g = sns.factorplot(x=\"Single\",y=\"Survived\",data=dataset,kind=\"bar\")\ng = g.set_ylabels(\"Survival Probability\")\ng = sns.factorplot(x=\"SmallF\",y=\"Survived\",data=dataset,kind=\"bar\")\ng = g.set_ylabels(\"Survival Probability\")\ng = sns.factorplot(x=\"MedF\",y=\"Survived\",data=dataset,kind=\"bar\")\ng = g.set_ylabels(\"Survival Probability\")\ng = sns.factorplot(x=\"LargeF\",y=\"Survived\",data=dataset,kind=\"bar\")\ng = g.set_ylabels(\"Survival Probability\")",
      "execution_count": null,
      "outputs": []
    },
    {
      "metadata": {
        "_uuid": "23f5ff97e8296a23b70f6d22fc785e8e26e3a1ec"
      },
      "cell_type": "markdown",
      "source": "Factorplots of family size categories show that Small and Medium families have more chance to survive than single passenger and large families."
    },
    {
      "metadata": {
        "trusted": true,
        "_uuid": "aa841744123971e306b7a62037b287e0e0b7c4a0"
      },
      "cell_type": "code",
      "source": "dataset.head()",
      "execution_count": null,
      "outputs": []
    },
    {
      "metadata": {
        "trusted": true,
        "_uuid": "2dd082457cbe59cea81894e5209a68a9ac40a25a"
      },
      "cell_type": "code",
      "source": "# convert Title to dummy variables\ndataset = pd.get_dummies(dataset, columns = [\"Title\"])\ndataset = pd.get_dummies(dataset, columns = [\"Embarked\"])",
      "execution_count": null,
      "outputs": []
    },
    {
      "metadata": {
        "trusted": true,
        "_uuid": "83a5278b2b71e95b06d10c49f4c6778a097e8f32"
      },
      "cell_type": "code",
      "source": "dataset.head()",
      "execution_count": null,
      "outputs": []
    },
    {
      "metadata": {
        "_uuid": "0d187ec6775d833cee0e0242e6d7b8a85ffd557d"
      },
      "cell_type": "markdown",
      "source": "### 3. Ticket"
    },
    {
      "metadata": {
        "trusted": true,
        "_uuid": "237f0a4bcc2fa7bb177be6a27470548fe9fdd53e"
      },
      "cell_type": "code",
      "source": "dataset['Ticket'].head()",
      "execution_count": null,
      "outputs": []
    },
    {
      "metadata": {
        "_uuid": "cba9466e106e96fef42e35098ba796d7776ffff8"
      },
      "cell_type": "markdown",
      "source": "It could mean that tickets sharing the same prefixes could be booked for cabins placed together. It could therefore lead to the actual placement of the cabins within the ship.\n\nTickets with same prefixes may have a similar class and survival.\n\nSo i decided to replace the Ticket feature column by the ticket prefix. Which may be more informative."
    },
    {
      "metadata": {
        "trusted": true,
        "_uuid": "620bb6619713a057572a6d0a5b11d2d38a6e7eb3"
      },
      "cell_type": "code",
      "source": "dataset['Ticket'][2].replace(\"/\",\"\").replace(\".\",\"\").strip().split(' ')[0]",
      "execution_count": null,
      "outputs": []
    },
    {
      "metadata": {
        "trusted": true,
        "_uuid": "7b4e75748054b6936d75fe802af00ee85bb14be9"
      },
      "cell_type": "code",
      "source": "Ticket = []\nfor i in list(dataset.Ticket):\n    if not i.isdigit():\n        Ticket.append(i.replace(\".\",\"\").replace(\"/\",\"\").strip().split(' ')[0])\n    else:\n        Ticket.append(\"X\")\ndataset['Ticket'] = Ticket\ndataset['Ticket'].head()",
      "execution_count": null,
      "outputs": []
    },
    {
      "metadata": {
        "trusted": true,
        "_uuid": "9a696c54d7f8251a80918b12613b5bc8b28ba3a8"
      },
      "cell_type": "code",
      "source": "dataset['Ticket'].unique()",
      "execution_count": null,
      "outputs": []
    },
    {
      "metadata": {
        "trusted": true,
        "_uuid": "05c2c316e4b5bba3e07630601bbacb37bb998d12"
      },
      "cell_type": "code",
      "source": "dataset = pd.get_dummies(dataset, columns=['Ticket'], prefix='T')",
      "execution_count": null,
      "outputs": []
    },
    {
      "metadata": {
        "trusted": true,
        "_uuid": "daaf10fd140a43154bc8fc1aee3faf0cfa453d71"
      },
      "cell_type": "code",
      "source": "dataset.head()",
      "execution_count": null,
      "outputs": []
    },
    {
      "metadata": {
        "trusted": true,
        "_uuid": "f4d948115769983b24fe72b1d0a051e25bdead7b"
      },
      "cell_type": "code",
      "source": "# Create categorical values for Pclass\ndataset['Pclass'] = dataset['Pclass'].astype(\"category\")\ndataset = pd.get_dummies(dataset, columns=['Pclass'], prefix='Pc')",
      "execution_count": null,
      "outputs": []
    },
    {
      "metadata": {
        "trusted": true,
        "_uuid": "d8bfc092c5abbe2c6b020c39a569bd180a87083e"
      },
      "cell_type": "code",
      "source": "# Drop Passenger ID\ndataset.drop(labels=[\"PassengerId\"], axis=1, inplace=True)",
      "execution_count": null,
      "outputs": []
    },
    {
      "metadata": {
        "trusted": true,
        "_uuid": "b38c3d985508fd928c5b2333404989ff2726cab2"
      },
      "cell_type": "code",
      "source": "dataset.head()",
      "execution_count": null,
      "outputs": []
    },
    {
      "metadata": {
        "_uuid": "3bf6f8d38131949bd5e72081fea868ef80534ba0"
      },
      "cell_type": "markdown",
      "source": "## Overfitting prevention"
    },
    {
      "metadata": {
        "trusted": true,
        "_uuid": "fa78d571895838b3de7863f5bc34918e6a26a463",
        "collapsed": true
      },
      "cell_type": "code",
      "source": "# To prevent overfitting, dummy varaibles with more than 99% 1 or 0 will be removed.\n\n#overfit = []\n#for i in dataset.columns:\n#    counts = dataset[i].value_counts()\n#    zeros = counts.iloc[0]\n#    if zeros / len(dataset) * 100 > 99:\n#        overfit.append(i)",
      "execution_count": null,
      "outputs": []
    },
    {
      "metadata": {
        "trusted": true,
        "_uuid": "638d14671aa280ce20a8213d86b1a5f594eed934"
      },
      "cell_type": "code",
      "source": "#overfit",
      "execution_count": null,
      "outputs": []
    },
    {
      "metadata": {
        "trusted": true,
        "_uuid": "916121e2a275b09570b46555844755a32c28cdd0"
      },
      "cell_type": "code",
      "source": "#dataset.drop(overfit, axis=1, inplace=True)\n#dataset.head()",
      "execution_count": null,
      "outputs": []
    },
    {
      "metadata": {
        "_uuid": "a1c7b3cd4b587ce8aacfdbd386ce2afa9788b80f"
      },
      "cell_type": "markdown",
      "source": "## Skewed features"
    },
    {
      "metadata": {
        "trusted": true,
        "_uuid": "402703a228da0bb3fe89bdd94e3979bd22ca0a56"
      },
      "cell_type": "code",
      "source": "#data = dataset.drop(labels = ['Survived'], axis=1)\n\n#numeric_feats = data.dtypes[data.dtypes != \"object\"].index\n\n# Check the skew of all numerical features\n#skewed_feats = data[numeric_feats].apply(lambda x: skew(x.dropna())).sort_values(ascending=False)\n#print(\"\\nSkew in numerical features: \\n\")\n#skewness = pd.DataFrame({'Skew' :skewed_feats})\n#skewness.head\n",
      "execution_count": null,
      "outputs": []
    },
    {
      "metadata": {
        "trusted": true,
        "_uuid": "22a695d3b20318e9abe1bd0af4c209d0609c3d8d"
      },
      "cell_type": "code",
      "source": "#skewness.index",
      "execution_count": null,
      "outputs": []
    },
    {
      "metadata": {
        "trusted": true,
        "_uuid": "12ded515164ae2d6a539412d32ca8e27b4ac358b"
      },
      "cell_type": "code",
      "source": "#skewness = skewness[abs(skewness.Skew) > 0.75]\n#print(\"There are {} skewed numerical features to Box Cox transform\".format(skewness.shape[0]))\n\n#from scipy.special import boxcox1p\n#skewed_features = skewness.index\n#lam = 0.15\n#for feat in skewed_features:\n#    dataset[feat] = boxcox1p(dataset[feat], lam)",
      "execution_count": null,
      "outputs": []
    },
    {
      "metadata": {
        "_uuid": "9623f6fdf22d8510cfe561e61c52d52a83b63237"
      },
      "cell_type": "markdown",
      "source": "## Modelling "
    },
    {
      "metadata": {
        "trusted": true,
        "_uuid": "b56c3d3387cf46bd2c8d1424512fdb4d208a49ae"
      },
      "cell_type": "code",
      "source": "# separate dataset into train and test sets\n\ntrain = dataset[:train_len]\ntest = dataset[train_len:]\ntest.drop(labels =[\"Survived\"], axis=1, inplace=True)",
      "execution_count": null,
      "outputs": []
    },
    {
      "metadata": {
        "trusted": true,
        "_uuid": "452dab7410909d865d5cd65be88c14668807f2cf"
      },
      "cell_type": "code",
      "source": "train[\"Survived\"] = train[\"Survived\"].astype(int)\n\nY_train = train[\"Survived\"]\n\nX_train = train.drop(labels = [\"Survived\"],axis = 1)",
      "execution_count": null,
      "outputs": []
    },
    {
      "metadata": {
        "_uuid": "66069c767015618a82a312ae7e3e91988e494390"
      },
      "cell_type": "markdown",
      "source": "### 1. Simple models "
    },
    {
      "metadata": {
        "_uuid": "1f0be18a78e9adde54420bccf52738eb987c8b60"
      },
      "cell_type": "markdown",
      "source": "Compare 12 popular classifiers and evaluate the mean accuracy of each of them by a stratified kfold cross validation procedure.\n\n1. SVC\n2. Decision Tree\n3. AdaBoost\n4. Random Forest\n5. Extra Trees\n6. Gradient Boosting\n7. Multiple layer perceprton (neural network)\n8. KNN\n9. Logistic regression\n10. Linear Discriminant Analysis\n11. XGBoost\n12. LightGBM"
    },
    {
      "metadata": {
        "trusted": true,
        "_uuid": "55c65bd04748efd23017e34819f9b5d901c0656c"
      },
      "cell_type": "code",
      "source": "# Cross validate model with Kfold stratified cross val\nkfold = StratifiedKFold(n_splits=10)",
      "execution_count": null,
      "outputs": []
    },
    {
      "metadata": {
        "trusted": true,
        "_uuid": "60e760526c640e6c5a87b3f867ab4d6528b73042"
      },
      "cell_type": "code",
      "source": "random_state = 13\nclassifiers = []\nclassifiers.append(SVC(random_state=random_state))\nclassifiers.append(DecisionTreeClassifier(random_state=random_state))\nclassifiers.append(AdaBoostClassifier(random_state=random_state))\nclassifiers.append(RandomForestClassifier(random_state=random_state))\nclassifiers.append(ExtraTreesClassifier(random_state=random_state))\nclassifiers.append(GradientBoostingClassifier(random_state=random_state))\nclassifiers.append(MLPClassifier(random_state=random_state))\nclassifiers.append(KNeighborsClassifier())\nclassifiers.append(LogisticRegression(random_state=random_state))\nclassifiers.append(LinearDiscriminantAnalysis())\nclassifiers.append(xgb.XGBClassifier(random_state=random_state))\nclassifiers.append(lgb.LGBMClassifier(random_state=random_state))\n\n",
      "execution_count": null,
      "outputs": []
    },
    {
      "metadata": {
        "trusted": true,
        "_uuid": "761bf54445683cde45aa5df94955cf37b59079f6"
      },
      "cell_type": "code",
      "source": "cv_results = []\nfor classifier in classifiers:\n    cv_results.append(cross_val_score(classifier, X_train, y=Y_train, cv=kfold, scoring='accuracy', n_jobs=4))\n\ncv_mean = []\ncv_std = []\nfor cv_result in cv_results:\n    cv_mean.append(cv_result.mean())\n    cv_std.append(cv_result.std())\n",
      "execution_count": null,
      "outputs": []
    },
    {
      "metadata": {
        "trusted": true,
        "_uuid": "29deba6762edc5c297b007fe6f5a0578ace4cde2"
      },
      "cell_type": "code",
      "source": "cv_res = pd.DataFrame({\"CrossValMeans\":cv_mean,\"CrossValerrors\": cv_std,\"Algorithm\":[\"SVC\",\"DecisionTree\",\"AdaBoost\",\n\"RandomForest\",\"ExtraTrees\",\"GradientBoosting\",\"MultipleLayerPerceptron\",\"KNeighboors\",\n\"LogisticRegression\",\"LinearDiscriminantAnalysis\", \"XGBoost\", \"LightGBM\"]})\n\nplt.figure(figsize=(10,8))\ng = sns.barplot(\"CrossValMeans\",\"Algorithm\",data=cv_res, palette=\"Set3\",orient = \"h\",**{'xerr':cv_std})\ng.set_xlabel(\"Mean Accuracy\")\ng = g.set_title(\"Cross validation scores\")",
      "execution_count": null,
      "outputs": []
    },
    {
      "metadata": {
        "trusted": true,
        "_uuid": "2b9f3c516c8b7dc2d4c59ab30d4cfe1d8f58e4ef"
      },
      "cell_type": "code",
      "source": "cv_mean",
      "execution_count": null,
      "outputs": []
    },
    {
      "metadata": {
        "_uuid": "b7578166d55779da424d2e95d305d02fba920876"
      },
      "cell_type": "markdown",
      "source": "From the cv scores, we choose Gradient Boosting, Logistic Regression, AdaBoost, LDA, and RandomForest classifiers for ensemble modeling."
    },
    {
      "metadata": {
        "_uuid": "a8327ef0024335174be157ce45d59883e959b06d"
      },
      "cell_type": "markdown",
      "source": "### 2. Hyperparameters tuning for best models"
    },
    {
      "metadata": {
        "_uuid": "97e337ba35cbadcb83d029db5c4311c846f22dff"
      },
      "cell_type": "markdown",
      "source": "Perform a grid search optimization for Gradient Boosting, XGBoost, LightGBM, AdaBoost, Random Forest and SVC classifiers."
    },
    {
      "metadata": {
        "trusted": true,
        "_uuid": "5af3255c6fac4f9b757e0a53d3a552f3f734e48b"
      },
      "cell_type": "code",
      "source": "train.shape",
      "execution_count": null,
      "outputs": []
    },
    {
      "metadata": {
        "trusted": true,
        "_uuid": "967f1a64b43827e8f519023da8131cc6ef116230",
        "scrolled": true
      },
      "cell_type": "code",
      "source": "# Gradient boosting tunning\n\nGBC = GradientBoostingClassifier()\ngb_param_grid = {'loss' : [\"deviance\"],\n              'n_estimators' : [50], #[900],\n              'learning_rate': [0.1],\n              'max_depth': [4],\n              'min_samples_split': [60], #range(30,120,10), #[60], #range(20,120,20),\n              'min_samples_leaf': [10], #range(10, 100, 10), #[50], #[0.1, 0.2, 0.3, 0.4, 0.5],\n              'max_features': ['sqrt'], #range(5,20,2) \n              'subsample': [0.8]  \n              }\n\ngsGBC = GridSearchCV(GBC,param_grid = gb_param_grid, cv=kfold, scoring=\"accuracy\", n_jobs= 4, verbose = 1)\n\ngsGBC.fit(X_train,Y_train)\n\nGBC_best = gsGBC.best_estimator_\n\n# Best score\ngsGBC.best_score_",
      "execution_count": null,
      "outputs": []
    },
    {
      "metadata": {
        "trusted": true,
        "_uuid": "0926771032f0677b8308325a570f7083d3c527df"
      },
      "cell_type": "code",
      "source": "gsGBC.best_score_",
      "execution_count": null,
      "outputs": []
    },
    {
      "metadata": {
        "trusted": true,
        "_uuid": "d15b9c5a5c195da95aaed241e98c247a4f259f2d"
      },
      "cell_type": "code",
      "source": "GBC_best",
      "execution_count": null,
      "outputs": []
    },
    {
      "metadata": {
        "trusted": true,
        "_uuid": "7bebf7cd85b667ca1820ce9d791d454fa7779613"
      },
      "cell_type": "code",
      "source": "# XGBoost tunning\n\nXGB = xgb.XGBClassifier()\nxgb_param_grid = {\"colsample_bytree\": [0.6], \n                  \"gamma\": [0],\n                  \"learning_rate\": [0.01], \n                  \"max_depth\": [3], \n                  \"min_child_weight\": [1], \n                  \"n_estimators\": [150],\n                  \"reg_alpha\":[0], \n                  \"reg_lambda\": [1],\n                  \"subsample\": [0.75]\n                 }\n                                 \ngsXGB = GridSearchCV(XGB, param_grid=xgb_param_grid, cv = kfold, scoring=\"accuracy\", n_jobs=4, verbose = 1)\n\ngsXGB.fit(X_train, Y_train)\n\nXGB_best = gsXGB.best_estimator_\n\n# Best score\ngsXGB.best_score_",
      "execution_count": null,
      "outputs": []
    },
    {
      "metadata": {
        "trusted": true,
        "_uuid": "19d8741e384f1ca1321239f6729b8601eaa370c2"
      },
      "cell_type": "code",
      "source": "gsXGB.best_score_",
      "execution_count": null,
      "outputs": []
    },
    {
      "metadata": {
        "trusted": true,
        "_uuid": "823495645fa5fb8bb5df8acbd62501d137aafd59"
      },
      "cell_type": "code",
      "source": "XGB_best",
      "execution_count": null,
      "outputs": []
    },
    {
      "metadata": {
        "trusted": true,
        "_uuid": "0ef23e670af72cbb9d465862655cdc3e849c589e",
        "scrolled": true
      },
      "cell_type": "code",
      "source": "# LightGBM tunning\n\nLGB = lgb.LGBMClassifier()\nlgb_param_grid = {\"max_depth\": [100],\n                  \"num_iterations\": [100], #[100]\n                  \"num_leaves\": [10],\n                  \"min_data_in_leaf\": [20],\n                  \"feature_fraction\": [0.5], \n                  \"learning_rate\": [0.1],  #[0.1]\n                  \"bagging_fraction\": [0.8],\n                  \"bagging_freq\": [5],\n                  }\n\ngsLGB = GridSearchCV(LGB, param_grid=lgb_param_grid, cv=kfold, scoring=\"accuracy\", n_jobs=4, verbose=1)\n\ngsLGB.fit(X_train, Y_train)\n\nLGB_best = gsLGB.best_estimator_\n\n# Best score\ngsLGB.best_score_",
      "execution_count": null,
      "outputs": []
    },
    {
      "metadata": {
        "trusted": true,
        "_uuid": "dc099958f64cea3510aa549bb18cdd65015c5c6e"
      },
      "cell_type": "code",
      "source": "gsLGB.best_score_",
      "execution_count": null,
      "outputs": []
    },
    {
      "metadata": {
        "trusted": true,
        "_uuid": "de66c11e6342d4b07635bd64c857eee288823929"
      },
      "cell_type": "code",
      "source": "LGB_best",
      "execution_count": null,
      "outputs": []
    },
    {
      "metadata": {
        "trusted": true,
        "_uuid": "c695ffdc4a813a33b688ace69763b0670f965817",
        "_kg_hide-input": false,
        "_kg_hide-output": false,
        "collapsed": true
      },
      "cell_type": "code",
      "source": "# Adaboost\n#DTC = DecisionTreeClassifier()\n\n#adaDTC = AdaBoostClassifier(DTC, random_state=7)\n\n#ada_param_grid = {\"base_estimator__criterion\" : [\"gini\", \"entropy\"],\n#              \"base_estimator__splitter\" :   [\"best\", \"random\"],\n#              \"algorithm\" : [\"SAMME\",\"SAMME.R\"],\n#              \"n_estimators\" :[1,2,3],\n#              \"learning_rate\": [0.0001, 0.001, 0.01, 0.1, 0.2, 0.3,1.5]\n#                 }\n\n#gsadaDTC = GridSearchCV(adaDTC,param_grid = ada_param_grid, cv=kfold, scoring=\"accuracy\", n_jobs= 4, verbose = 1)\n\n#gsadaDTC.fit(X_train,Y_train)\n\n#ada_best = gsadaDTC.best_estimator_\n\n# Best score\n#gsadaDTC.best_score_",
      "execution_count": null,
      "outputs": []
    },
    {
      "metadata": {
        "trusted": true,
        "_uuid": "8885d34b7a5f8d38d13d3c8f9110fa5cea1c9ad9",
        "collapsed": true
      },
      "cell_type": "code",
      "source": "#gsadaDTC.best_score_",
      "execution_count": null,
      "outputs": []
    },
    {
      "metadata": {
        "trusted": true,
        "_uuid": "37936057fd57edd438fdf8b183a67a91f88aea10",
        "collapsed": true
      },
      "cell_type": "code",
      "source": "# ada_best",
      "execution_count": null,
      "outputs": []
    },
    {
      "metadata": {
        "trusted": true,
        "_uuid": "170872ed2f40f6fbb14e12aa07229f88ade2b612"
      },
      "cell_type": "code",
      "source": "# RFC Parameters tunning \nRFC = RandomForestClassifier()\n\n\n## Search grid for optimal parameters\nrf_param_grid = {\"max_depth\": [n for n in range(9, 14)],     \n                  \"min_samples_split\": [n for n in range(4, 11)], \n                  \"min_samples_leaf\":  [n for n in range(2, 5)],     \n                  \"n_estimators\":  [n for n in range(10, 60, 10)]}\n\n\ngsRFC = GridSearchCV(RFC,param_grid = rf_param_grid, cv=kfold, scoring=\"accuracy\", n_jobs= 4, verbose = 1)\n\ngsRFC.fit(X_train,Y_train)\n\nRFC_best = gsRFC.best_estimator_\n\n# Best score\ngsRFC.best_score_",
      "execution_count": null,
      "outputs": []
    },
    {
      "metadata": {
        "trusted": true,
        "_uuid": "d61b6abb11d961a2f0b3a4745e0e06ef6678d333"
      },
      "cell_type": "code",
      "source": "gsRFC.best_score_",
      "execution_count": null,
      "outputs": []
    },
    {
      "metadata": {
        "trusted": true,
        "_uuid": "caf73043673213164d8b1780f1fc5e1d25a53492"
      },
      "cell_type": "code",
      "source": "#RFC_best",
      "execution_count": null,
      "outputs": []
    },
    {
      "metadata": {
        "trusted": true,
        "_uuid": "91ab1b8f21c74644a4e9d67f6cc1f9fdb09f017c"
      },
      "cell_type": "code",
      "source": "### SVMC classifier\n#SVMC = SVC(probability=True)\n#svc_param_grid = {'kernel': ['rbf'], \n#                  'gamma': [0.01], #[0.001, 0.01, 0.1, 1],\n#                  'C': [50] #[1, 10, 50, 100, 200, 300, 1000]\n#                 }\n\n#gsSVMC = GridSearchCV(SVMC,param_grid = svc_param_grid, cv=kfold, scoring=\"accuracy\", n_jobs= 4, verbose = 1)\n\n#gsSVMC.fit(X_train,Y_train)\n\n#SVMC_best = gsSVMC.best_estimator_\n\n# Best score\n#gsSVMC.best_score_",
      "execution_count": null,
      "outputs": []
    },
    {
      "metadata": {
        "trusted": true,
        "_uuid": "125e97e8b71b78287167c7375025433aff93b824"
      },
      "cell_type": "code",
      "source": "#gsSVMC.best_score_",
      "execution_count": null,
      "outputs": []
    },
    {
      "metadata": {
        "trusted": true,
        "_uuid": "48cf9acc3b71adda51382b74dcca748be526766f"
      },
      "cell_type": "code",
      "source": "#SVMC_best",
      "execution_count": null,
      "outputs": []
    },
    {
      "metadata": {
        "_uuid": "226cc2668099c4394d5c95341f19f9ed2025d155"
      },
      "cell_type": "markdown",
      "source": "### Plot learning curves"
    },
    {
      "metadata": {
        "trusted": true,
        "_uuid": "d9ad3d76f9145afae12cdbf56c63d85fc5a004c5",
        "collapsed": true
      },
      "cell_type": "code",
      "source": "def plot_learning_curve(estimator, title, X, y, ylim=None, cv=None,\n                        n_jobs=-1, train_sizes=np.linspace(.1, 1.0, 5)):\n    \"\"\"Generate a simple plot of the test and training learning curve\"\"\"\n    plt.figure()\n    plt.title(title)\n    if ylim is not None:\n        plt.ylim(*ylim)\n    plt.xlabel(\"Training examples\")\n    plt.ylabel(\"Score\")\n    train_sizes, train_scores, test_scores = learning_curve(\n        estimator, X, y, cv=cv, n_jobs=n_jobs, train_sizes=train_sizes)\n    train_scores_mean = np.mean(train_scores, axis=1)\n    train_scores_std = np.std(train_scores, axis=1)\n    test_scores_mean = np.mean(test_scores, axis=1)\n    test_scores_std = np.std(test_scores, axis=1)\n    plt.grid()\n\n    plt.fill_between(train_sizes, train_scores_mean - train_scores_std,\n                     train_scores_mean + train_scores_std, alpha=0.1,\n                     color=\"r\")\n    plt.fill_between(train_sizes, test_scores_mean - test_scores_std,\n                     test_scores_mean + test_scores_std, alpha=0.1, color=\"g\")\n    plt.plot(train_sizes, train_scores_mean, 'o-', color=\"r\",\n             label=\"Training score\")\n    plt.plot(train_sizes, test_scores_mean, 'o-', color=\"g\",\n             label=\"Cross-validation score\")\n\n    plt.legend(loc=\"best\")\n    return plt\n\n#g = plot_learning_curve(gsGBC.best_estimator_,\"GradientBoosting learning curves\",X_train,Y_train,cv=kfold)\n#g = plot_learning_curve(gsadaDTC.best_estimator_,\"AdaBoost learning curves\",X_train,Y_train,cv=kfold)\n#g = plot_learning_curve(gsRFC.best_estimator_,\"RF mearning curves\",X_train,Y_train,cv=kfold)\n#g = plot_learning_curve(gsSVMC.best_estimator_,\"SVC learning curves\",X_train,Y_train,cv=kfold)",
      "execution_count": null,
      "outputs": []
    },
    {
      "metadata": {
        "trusted": true,
        "_uuid": "51d504fb82e342c7ae26e6d8523d39242f304da6"
      },
      "cell_type": "code",
      "source": "#from mlxtend.classifier import StackingClassifier\n#sclf = StackingClassifier(classifiers=[XGB_best,LGB_best, GBC_best],\n#                          meta_classifier=RFC_best)\n",
      "execution_count": null,
      "outputs": []
    },
    {
      "metadata": {
        "trusted": true,
        "_uuid": "9e194ef9f809b5af581b258f8fd7780da1f32f00"
      },
      "cell_type": "code",
      "source": "#sclf_score = cross_val_score(sclf, X_train, y=Y_train, cv=kfold, scoring='accuracy', n_jobs=4)",
      "execution_count": null,
      "outputs": []
    },
    {
      "metadata": {
        "trusted": true,
        "_uuid": "8092450e3e953e77912249312f0dbcff58a24e83"
      },
      "cell_type": "code",
      "source": "#sclf_score.mean()",
      "execution_count": null,
      "outputs": []
    },
    {
      "metadata": {
        "trusted": true,
        "_uuid": "2c2fe5be7aabf7c6dc999f740d1263946f58d5a9"
      },
      "cell_type": "code",
      "source": "#sclf.fit(X_train, Y_train)",
      "execution_count": null,
      "outputs": []
    },
    {
      "metadata": {
        "trusted": true,
        "_uuid": "f3af6c11cd6034610d2b2b8affaa73dd45532c78"
      },
      "cell_type": "code",
      "source": "#votingC = VotingClassifier(estimators=[('xgb', XGB_best),('rfc', RFC_best), \n#                                       ('lgb', LGB_best)], voting='soft', n_jobs=4)\n\n#votingC = votingC.fit(X_train, Y_train)",
      "execution_count": null,
      "outputs": []
    },
    {
      "metadata": {
        "trusted": true,
        "_uuid": "535e05125c94b3d9fba8dbffe57aec82031f80db"
      },
      "cell_type": "code",
      "source": "#test_Survived = pd.Series(votingC.predict(test), name=\"Survived\")\ntest_Survived = pd.Series(RFC_best.predict(test), name=\"Survived\")\nresults = pd.concat([IDtest,test_Survived],axis=1)\n\nresults.to_csv(\"ensemble_python_voting.csv\",index=False)",
      "execution_count": null,
      "outputs": []
    },
    {
      "metadata": {
        "trusted": true,
        "_uuid": "9dc065ee391dca36525eec079bb0bf3c261c6315",
        "collapsed": true
      },
      "cell_type": "code",
      "source": "",
      "execution_count": null,
      "outputs": []
    }
  ],
  "metadata": {
    "kernelspec": {
      "display_name": "Python 3",
      "language": "python",
      "name": "python3"
    },
    "language_info": {
      "name": "python",
      "version": "3.6.6",
      "mimetype": "text/x-python",
      "codemirror_mode": {
        "name": "ipython",
        "version": 3
      },
      "pygments_lexer": "ipython3",
      "nbconvert_exporter": "python",
      "file_extension": ".py"
    }
  },
  "nbformat": 4,
  "nbformat_minor": 1
}